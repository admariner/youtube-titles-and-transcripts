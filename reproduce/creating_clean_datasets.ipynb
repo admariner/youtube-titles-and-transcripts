{
  "nbformat": 4,
  "nbformat_minor": 0,
  "metadata": {
    "colab": {
      "name": "creating_clean_datasets.ipynb",
      "provenance": [],
      "collapsed_sections": [],
      "machine_shape": "hm",
      "include_colab_link": true
    },
    "kernelspec": {
      "name": "python3",
      "display_name": "Python 3"
    }
  },
  "cells": [
    {
      "cell_type": "markdown",
      "metadata": {
        "id": "view-in-github",
        "colab_type": "text"
      },
      "source": [
        "<a href=\"https://colab.research.google.com/github/chris-lovejoy/youtube-titles-and-transcripts/blob/main/reproduce/creating_clean_datasets.ipynb\" target=\"_parent\"><img src=\"https://colab.research.google.com/assets/colab-badge.svg\" alt=\"Open In Colab\"/></a>"
      ]
    },
    {
      "cell_type": "markdown",
      "metadata": {
        "id": "tBwfYF6CfRSj"
      },
      "source": [
        "Add paths to the files specified below as strings:"
      ]
    },
    {
      "cell_type": "code",
      "metadata": {
        "id": "f4PaE-ymfM3m"
      },
      "source": [
        "clean_titles = '...' # Insert path to file hlen_defaultLanguageEnglish_defaultAudioLanguageEnglish_ascii.csv (link in README)\n",
        "full_dataset = '...' # Insert path to full dataset\n",
        "clean_df_path = '...' # Insert path to blank csv to save clean dataset to\n",
        "punc_df_path = '...' # Insert path to blank csv to save punctuated dataset to"
      ],
      "execution_count": null,
      "outputs": []
    },
    {
      "cell_type": "code",
      "metadata": {
        "id": "sUT4I97M6JI6"
      },
      "source": [
        "# Create dictionary of titles from clean titles\n",
        "import csv\n",
        "\n",
        "with open(clean_titles, 'r') as title_file:\n",
        "  read = csv.reader(title_file)\n",
        "  headers = next(read) # skip header\n",
        "\n",
        "  TitleDictionary = {}\n",
        "\n",
        "  for row in read:\n",
        "    key = row[0]\n",
        "    value = row[2]\n",
        "    \n",
        "    TitleDictionary[key] = value  "
      ],
      "execution_count": null,
      "outputs": []
    },
    {
      "cell_type": "code",
      "metadata": {
        "id": "K5NGJ-_UlF1K"
      },
      "source": [
        "# Load full dataset\n",
        "import pandas as pd\n",
        "\n",
        "df = pd.read_csv(full_dataset)"
      ],
      "execution_count": null,
      "outputs": []
    },
    {
      "cell_type": "code",
      "metadata": {
        "colab": {
          "base_uri": "https://localhost:8080/"
        },
        "id": "_UKZ1_gZdj-W",
        "outputId": "5e774e73-3302-483e-fe4d-4b8bfc4c2bf6"
      },
      "source": [
        "# Create clean dataset using only titles with: default language English, default audio language English and only containing ascii characters\n",
        "\n",
        "clean_df = df[df['vid_id'].isin(TitleDictionary)]\n",
        "\n",
        "len(clean_df)"
      ],
      "execution_count": null,
      "outputs": [
        {
          "output_type": "execute_result",
          "data": {
            "text/plain": [
              "74039"
            ]
          },
          "metadata": {
            "tags": []
          },
          "execution_count": 65
        }
      ]
    },
    {
      "cell_type": "code",
      "metadata": {
        "id": "xLcg0pnsuAf_"
      },
      "source": [
        "clean_df.to_csv(clean_df_path,index=False)"
      ],
      "execution_count": null,
      "outputs": []
    },
    {
      "cell_type": "code",
      "metadata": {
        "colab": {
          "base_uri": "https://localhost:8080/"
        },
        "id": "AqDpHDlGgzID",
        "outputId": "5531f892-4657-4228-c710-56bf25f2e523"
      },
      "source": [
        "# Create dataset of only punctuated transcripts from the clean dataset\n",
        "\n",
        "punc_df = clean_df[clean_df['punctuated'] == 1]\n",
        "\n",
        "len(punc_df)"
      ],
      "execution_count": null,
      "outputs": [
        {
          "output_type": "execute_result",
          "data": {
            "text/plain": [
              "17886"
            ]
          },
          "metadata": {
            "tags": []
          },
          "execution_count": 68
        }
      ]
    },
    {
      "cell_type": "code",
      "metadata": {
        "id": "JuJ_asd0F2j_"
      },
      "source": [
        "punc_df.to_csv(punc_df_path,index=False)"
      ],
      "execution_count": null,
      "outputs": []
    }
  ]
}