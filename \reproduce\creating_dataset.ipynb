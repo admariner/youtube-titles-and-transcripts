{
  "nbformat": 4,
  "nbformat_minor": 0,
  "metadata": {
    "colab": {
      "name": "creating_dataset.ipynb",
      "provenance": [],
      "collapsed_sections": [
        "8IsqGaeIaSgg",
        "xKaL9FNf6Btg",
        "P1CLgTKcaXcX",
        "n3wvCgEjL6-n",
        "r9U-NiYrQfw7"
      ],
      "machine_shape": "hm",
      "include_colab_link": true
    },
    "kernelspec": {
      "name": "python3",
      "display_name": "Python 3"
    }
  },
  "cells": [
    {
      "cell_type": "markdown",
      "metadata": {
        "id": "view-in-github",
        "colab_type": "text"
      },
      "source": [
        "<a href=\"https://colab.research.google.com/github/chris-lovejoy/youtube-titles-and-transcripts/blob/main/%5Creproduce%5Ccreating_dataset.ipynb\" target=\"_parent\"><img src=\"https://colab.research.google.com/assets/colab-badge.svg\" alt=\"Open In Colab\"/></a>"
      ]
    },
    {
      "cell_type": "code",
      "metadata": {
        "colab": {
          "base_uri": "https://localhost:8080/"
        },
        "id": "CdPjGDoXOqkS",
        "outputId": "086e088c-373f-4667-d3c1-d517b9d53f52"
      },
      "source": [
        "!pip3 install ijson\n",
        "import ijson\n",
        "import csv"
      ],
      "execution_count": null,
      "outputs": [
        {
          "output_type": "stream",
          "text": [
            "Collecting ijson\n",
            "\u001b[?25l  Downloading https://files.pythonhosted.org/packages/b3/0c/e3b7bf52e23345d5f9a6a3ff6de0cad419c96491893ab60cbbe9161644a8/ijson-3.1.4-cp37-cp37m-manylinux2010_x86_64.whl (126kB)\n",
            "\r\u001b[K     |██▋                             | 10kB 12.3MB/s eta 0:00:01\r\u001b[K     |█████▏                          | 20kB 13.6MB/s eta 0:00:01\r\u001b[K     |███████▉                        | 30kB 9.1MB/s eta 0:00:01\r\u001b[K     |██████████▍                     | 40kB 8.4MB/s eta 0:00:01\r\u001b[K     |█████████████                   | 51kB 4.1MB/s eta 0:00:01\r\u001b[K     |███████████████▋                | 61kB 4.7MB/s eta 0:00:01\r\u001b[K     |██████████████████▏             | 71kB 5.2MB/s eta 0:00:01\r\u001b[K     |████████████████████▊           | 81kB 5.6MB/s eta 0:00:01\r\u001b[K     |███████████████████████▍        | 92kB 5.5MB/s eta 0:00:01\r\u001b[K     |██████████████████████████      | 102kB 5.7MB/s eta 0:00:01\r\u001b[K     |████████████████████████████▌   | 112kB 5.7MB/s eta 0:00:01\r\u001b[K     |███████████████████████████████▏| 122kB 5.7MB/s eta 0:00:01\r\u001b[K     |████████████████████████████████| 133kB 5.7MB/s \n",
            "\u001b[?25hInstalling collected packages: ijson\n",
            "Successfully installed ijson-3.1.4\n"
          ],
          "name": "stdout"
        }
      ]
    },
    {
      "cell_type": "markdown",
      "metadata": {
        "id": "b8bajHGlQGa_"
      },
      "source": [
        "First download raw_caption.json, HowTo100M_v1.csv, task_ids.csv from https://www.di.ens.fr/willow/research/howto100m/ and video_titles-en.csv (link in README) \\\\\n",
        "\n",
        "Add paths to the files specified below as strings:"
      ]
    },
    {
      "cell_type": "code",
      "metadata": {
        "id": "46fhiCibQfQ7"
      },
      "source": [
        "captions = '...' # raw_caption json which can be downloaded from https://www.di.ens.fr/willow/research/howto100m/\n",
        "titles = '...' # video_titles-en.csv\n",
        "HowTo100M_v1 = '...' # HowTo100M_v1.csv which can be downloaded from https://www.di.ens.fr/willow/research/howto100m/\n",
        "taskids = '...' # 'task_ids.csv' which can be downloaded from https://www.di.ens.fr/willow/research/howto100m/\n",
        "full_dataset = '...' # A blank csv to put dataset in"
      ],
      "execution_count": null,
      "outputs": []
    },
    {
      "cell_type": "code",
      "metadata": {
        "id": "ncNuVBbvLMP3"
      },
      "source": [
        "# Remove NaNs (3 different ways in which they appear)\n",
        "\n",
        "f=open(captions,'r+')\n",
        "\n",
        "chunksize=1000000\n",
        "overlap=100\n",
        "currentposition=0\n",
        "\n",
        "while True:\n",
        "    chunk = f.read(chunksize+overlap)\n",
        "    f.seek(currentposition)\n",
        "    if chunk == '':\n",
        "        break\n",
        "    nanstring = '[NaN, \"'     \n",
        "    repstring = '[\" \", \"'\n",
        "    if chunk.find(nanstring) != -1:\n",
        "        print('found one!')\n",
        "        replacestring = chunk.replace(nanstring,repstring)\n",
        "        f.write(replacestring)\n",
        "    currentposition += chunksize\n",
        "    f.seek(currentposition)\n",
        "\n",
        "print('done')"
      ],
      "execution_count": null,
      "outputs": []
    },
    {
      "cell_type": "code",
      "metadata": {
        "id": "XztEsCLWWq_N"
      },
      "source": [
        "f=open(captions,'r+')\n",
        "\n",
        "chunksize=1000000\n",
        "overlap=100\n",
        "currentposition=0\n",
        "\n",
        "while True:\n",
        "    chunk = f.read(chunksize+overlap)\n",
        "    f.seek(currentposition)\n",
        "    if chunk == '':\n",
        "        break\n",
        "    nanstring = ', NaN,'\n",
        "    repstring = ', \" \",'\n",
        "    if chunk.find(nanstring) != -1:\n",
        "        print('found one!')\n",
        "        replacestring = chunk.replace(nanstring,repstring)\n",
        "        f.write(replacestring)\n",
        "    currentposition += chunksize\n",
        "    f.seek(currentposition)\n",
        "    \n",
        "print('done')  "
      ],
      "execution_count": null,
      "outputs": []
    },
    {
      "cell_type": "code",
      "metadata": {
        "id": "v02dc6rsWss4"
      },
      "source": [
        "f=open(captions,'r+')\n",
        "\n",
        "chunksize=1000000\n",
        "overlap=100\n",
        "currentposition=0\n",
        "\n",
        "while True:\n",
        "    chunk = f.read(chunksize+overlap)\n",
        "    f.seek(currentposition)\n",
        "    if chunk == '':\n",
        "        break\n",
        "    nanstring = ', NaN]'     \n",
        "    repstring = ', \" \"]'\n",
        "    if chunk.find(nanstring) != -1:\n",
        "        print('found one!')\n",
        "        replacestring = chunk.replace(nanstring,repstring)\n",
        "        f.write(replacestring)\n",
        "    currentposition += chunksize\n",
        "    f.seek(currentposition)\n",
        "    \n",
        "print('done')  "
      ],
      "execution_count": null,
      "outputs": []
    },
    {
      "cell_type": "markdown",
      "metadata": {
        "id": "W3nVVlHxjxyV"
      },
      "source": [
        "# Creating csv"
      ]
    },
    {
      "cell_type": "code",
      "metadata": {
        "id": "3KACSlscpxv2"
      },
      "source": [
        "# Create dictionary of titles\n",
        "\n",
        "with open(titles, 'r') as title_file:\n",
        "  read = csv.reader(title_file)\n",
        "  headers = next(read) # skip header\n",
        "\n",
        "  TitleDictionary = {}\n",
        "\n",
        "  for row in read:\n",
        "    key = row[0]\n",
        "    value = row[2]\n",
        "    \n",
        "    # Add to dictionary \n",
        "    TitleDictionary[key] = value  "
      ],
      "execution_count": null,
      "outputs": []
    },
    {
      "cell_type": "code",
      "metadata": {
        "colab": {
          "base_uri": "https://localhost:8080/",
          "height": 35
        },
        "id": "ZZGC0Lvmrdlb",
        "outputId": "72dab670-c15a-4592-96dc-481cf1ae213f"
      },
      "source": [
        "TitleDictionary['I5uqJ-MIZZQ']\n",
        "# len(TitleDictionary)\n",
        "# TitleDictionary"
      ],
      "execution_count": null,
      "outputs": [
        {
          "output_type": "execute_result",
          "data": {
            "application/vnd.google.colaboratory.intrinsic+json": {
              "type": "string"
            },
            "text/plain": [
              "'Fixing American Girl Doll Kits Hair!/ How To Wash Short Doll Hair! AGLF'"
            ]
          },
          "metadata": {
            "tags": []
          },
          "execution_count": 41
        }
      ]
    },
    {
      "cell_type": "code",
      "metadata": {
        "id": "EcTsUVZatZ52"
      },
      "source": [
        "# Create dictionary of categories\n",
        "\n",
        "with open(HowTo100M_v1, 'r') as cat_file:\n",
        "  read = csv.reader(cat_file)\n",
        "  headers = next(read) # skip header\n",
        "\n",
        "  Cat1Dictionary = {}\n",
        "  Cat2Dictionary = {}\n",
        "\n",
        "  for row in read:\n",
        "    key = row[0]\n",
        "    cat1 = row[1]\n",
        "    cat2 = row[2]\n",
        "    \n",
        "    #vAdd to dictionary \n",
        "    Cat1Dictionary[key] = cat1\n",
        "    Cat2Dictionary[key] = cat2"
      ],
      "execution_count": null,
      "outputs": []
    },
    {
      "cell_type": "code",
      "metadata": {
        "id": "_fJ_EYEivBlU"
      },
      "source": [
        "# Create dictionary of task ids\n",
        "\n",
        "# Map task id number to name of task\n",
        "with open(taskids, 'r') as taskid_file:\n",
        "  read = csv.reader(taskid_file, delimiter='\\t')\n",
        "\n",
        "  TaskIDDictionary1 = {}\n",
        "\n",
        "  for row in read:\n",
        "    key = row[0]\n",
        "    value = row[1]\n",
        "    \n",
        "    # Add to dictionary \n",
        "    TaskIDDictionary1[key] = value\n",
        "\n",
        "# Map video id to task id number which maps to name of task\n",
        "with open(HowTo100M_v1, 'r') as title_file:\n",
        "  read = csv.reader(title_file)\n",
        "  headers = next(read)\n",
        "\n",
        "  TaskIDDictionary2 = {}\n",
        "\n",
        "  for row in read:\n",
        "    key = row[0]\n",
        "    value = row[4]\n",
        "    \n",
        "    TaskIDDictionary2[key] = TaskIDDictionary1[value]"
      ],
      "execution_count": null,
      "outputs": []
    },
    {
      "cell_type": "code",
      "metadata": {
        "id": "I1Cv1rJoq9kK"
      },
      "source": [
        "# Put transcripts into csv\n",
        "import csv\n",
        "\n",
        "# Helper function to only add non-overlapping part of new caption to current transcript\n",
        "def add_string_no_overlap(string1, string2):\n",
        "  k = 0\n",
        "  for i in range(5, len(string2)): # Choose 5 as lower end of range otherwise consecutive captions which happen to end/start with the same character(s) are wrongly concatenated\n",
        "      if string1.endswith(string2[:i]):\n",
        "          k = i\n",
        "  return string1+' '+string2[k:]\n",
        "\n",
        "data = ijson.parse(open(captions, 'rb'))\n",
        "\n",
        "i=0 # Counter\n",
        "curr_vid_ID = ''\n",
        "\n",
        "with open(full_dataset, mode='w') as transcript_csv:\n",
        "  # Create column titles\n",
        "  fieldnames = ['vid_id', 'title', 'transcript', 'category_1', 'category_2', 'task_id']\n",
        "  writer = csv.DictWriter(transcript_csv, fieldnames=fieldnames)\n",
        "  writer.writeheader()\n",
        "  for prefix, event, value in data:\n",
        "    if event == 'string':\n",
        "      # If prefix (video ID) hasn't changed, add this caption to current transcript\n",
        "      if prefix == curr_vid_ID:\n",
        "        # This code helps to deal with overlapping captions\n",
        "        value = value.replace(\"\\n\", \" \").replace(\"   \", \" \").replace(\"  \", \" \")\n",
        "        transcript = add_string_no_overlap(transcript, value)\n",
        "        transcript = transcript.replace(\"  \", \" \")\n",
        "        text_vid_ID = prefix\n",
        "      else:\n",
        "        # If reached new video, add previous transcript to csv and start next transcript\n",
        "        if i > 0: # If not the first iteration\n",
        "          transcript = transcript.replace(\"\\n\", \" \")\n",
        "          try:\n",
        "            writer.writerow({'vid_id': text_vid_ID[:11], 'title': TitleDictionary[text_vid_ID[:11]], 'transcript': transcript, 'category_1': \n",
        "                             Cat1Dictionary[text_vid_ID[:11]], 'category_2': Cat2Dictionary[text_vid_ID[:11]], \n",
        "                             'task_id': TaskIDDictionary2[text_vid_ID[:11]]})\n",
        "          except:\n",
        "            None\n",
        "        transcript = value.replace(\"\\n\", \" \").replace(\"   \", \" \").replace(\"  \", \" \")\n",
        "        i+=1\n",
        "\n",
        "    curr_vid_ID = prefix"
      ],
      "execution_count": null,
      "outputs": []
    },
    {
      "cell_type": "markdown",
      "metadata": {
        "id": "btg0a1QKlrFh"
      },
      "source": [
        "# Add punctuated flag"
      ]
    },
    {
      "cell_type": "code",
      "metadata": {
        "id": "Oqd6Tntnq_hD"
      },
      "source": [
        "import pandas as pd\n",
        "import string\n",
        "\n",
        "df = pd.read_csv(full_dataset)\n",
        "\n",
        "# Adding punctuation flag\n",
        "\n",
        "df['punctuated1'] = df['transcript'].str.contains(', ')\n",
        "df['punctuated2'] = df['transcript'].str.contains('. ', regex=False)\n",
        "\n",
        "df['punctuated'] = df['punctuated1'] & df['punctuated2']\n",
        "df = df.drop(columns=['punctuated1', 'punctuated2'])\n",
        "\n",
        "df.to_csv(full_dataset,index=False)"
      ],
      "execution_count": null,
      "outputs": []
    },
    {
      "cell_type": "code",
      "metadata": {
        "colab": {
          "base_uri": "https://localhost:8080/"
        },
        "id": "D_MrBlKw03wL",
        "outputId": "213311e4-2578-4a67-a4f3-d604578f036b"
      },
      "source": [
        "df.punctuated.value_counts()"
      ],
      "execution_count": null,
      "outputs": [
        {
          "output_type": "execute_result",
          "data": {
            "text/plain": [
              "False    1063137\n",
              "True       96964\n",
              "Name: punctuated, dtype: int64"
            ]
          },
          "metadata": {
            "tags": []
          },
          "execution_count": 9
        }
      ]
    },
    {
      "cell_type": "code",
      "metadata": {
        "colab": {
          "base_uri": "https://localhost:8080/",
          "height": 570
        },
        "id": "ZyFdwppHmFW3",
        "outputId": "12c8726d-51eb-41af-df4c-31be5b9ff4b6"
      },
      "source": [
        "df"
      ],
      "execution_count": null,
      "outputs": [
        {
          "output_type": "execute_result",
          "data": {
            "text/html": [
              "<div>\n",
              "<style scoped>\n",
              "    .dataframe tbody tr th:only-of-type {\n",
              "        vertical-align: middle;\n",
              "    }\n",
              "\n",
              "    .dataframe tbody tr th {\n",
              "        vertical-align: top;\n",
              "    }\n",
              "\n",
              "    .dataframe thead th {\n",
              "        text-align: right;\n",
              "    }\n",
              "</style>\n",
              "<table border=\"1\" class=\"dataframe\">\n",
              "  <thead>\n",
              "    <tr style=\"text-align: right;\">\n",
              "      <th></th>\n",
              "      <th>vid_id</th>\n",
              "      <th>title</th>\n",
              "      <th>transcript</th>\n",
              "      <th>category_1</th>\n",
              "      <th>category_2</th>\n",
              "      <th>task_id</th>\n",
              "      <th>punctuated</th>\n",
              "    </tr>\n",
              "  </thead>\n",
              "  <tbody>\n",
              "    <tr>\n",
              "      <th>0</th>\n",
              "      <td>GhOxhZeJp74</td>\n",
              "      <td>Dermatology Treatments : How to Get Rid of Bac...</td>\n",
              "      <td>hi i'm dr. rafael Darvish with skin packable d...</td>\n",
              "      <td>Youth</td>\n",
              "      <td>Personal Care for Youth</td>\n",
              "      <td>Naturally Get Rid of Back Acne</td>\n",
              "      <td>False</td>\n",
              "    </tr>\n",
              "    <tr>\n",
              "      <th>1</th>\n",
              "      <td>igF53XMINhs</td>\n",
              "      <td>\"Norwood\" Rainbow Loom Bracelet/How To Tutorial</td>\n",
              "      <td>hey guys it's loves to loom here and today I'm...</td>\n",
              "      <td>Hobbies and Crafts</td>\n",
              "      <td>Crafts</td>\n",
              "      <td>Make a Loopy Bracelet</td>\n",
              "      <td>False</td>\n",
              "    </tr>\n",
              "    <tr>\n",
              "      <th>2</th>\n",
              "      <td>mt2DcsJFqAY</td>\n",
              "      <td>How to set up a wired game controller to your pc</td>\n",
              "      <td>are those me again stay I'm back from video an...</td>\n",
              "      <td>Food and Entertaining</td>\n",
              "      <td>Recipes</td>\n",
              "      <td>Make Game Controller Cookies</td>\n",
              "      <td>False</td>\n",
              "    </tr>\n",
              "    <tr>\n",
              "      <th>3</th>\n",
              "      <td>nxj62Bl2rrs</td>\n",
              "      <td>Pokemon go cookies - Easy Pokeball cookies NO ...</td>\n",
              "      <td>hello welcome Marlin here today we're making s...</td>\n",
              "      <td>Food and Entertaining</td>\n",
              "      <td>Recipes</td>\n",
              "      <td>Make a Pokéball</td>\n",
              "      <td>False</td>\n",
              "    </tr>\n",
              "    <tr>\n",
              "      <th>4</th>\n",
              "      <td>nVbIUDjzWY4</td>\n",
              "      <td>HOW TO PAINT YOUR MOTORCYCLE PART#5 BASECOAT PREP</td>\n",
              "      <td>other folks that Roylott v-twins to be AIDS I'...</td>\n",
              "      <td>Cars &amp; Other Vehicles</td>\n",
              "      <td>Motorcycles</td>\n",
              "      <td>Paint a Motorcycle</td>\n",
              "      <td>False</td>\n",
              "    </tr>\n",
              "    <tr>\n",
              "      <th>...</th>\n",
              "      <td>...</td>\n",
              "      <td>...</td>\n",
              "      <td>...</td>\n",
              "      <td>...</td>\n",
              "      <td>...</td>\n",
              "      <td>...</td>\n",
              "      <td>...</td>\n",
              "    </tr>\n",
              "    <tr>\n",
              "      <th>1160096</th>\n",
              "      <td>8h7K6E_BUok</td>\n",
              "      <td>How to Make a Hover Ball Toy Easy | Fun DIY wi...</td>\n",
              "      <td>[Music] hi guys when you hear it's DIY time we...</td>\n",
              "      <td>Hobbies and Crafts</td>\n",
              "      <td>Crafts</td>\n",
              "      <td>Make Cute Hearts from Plastic Straws</td>\n",
              "      <td>False</td>\n",
              "    </tr>\n",
              "    <tr>\n",
              "      <th>1160097</th>\n",
              "      <td>tVc0qvCeVfQ</td>\n",
              "      <td>How to make a Tiny Paper Sail boat for scrapbo...</td>\n",
              "      <td>hello everyone its owner from honest paper gra...</td>\n",
              "      <td>Hobbies and Crafts</td>\n",
              "      <td>Crafts</td>\n",
              "      <td>Make a Sail</td>\n",
              "      <td>False</td>\n",
              "    </tr>\n",
              "    <tr>\n",
              "      <th>1160098</th>\n",
              "      <td>gIURSGIXX0Y</td>\n",
              "      <td>How to make a styrofoam RC airplane yourself |...</td>\n",
              "      <td>[Music] today I'm going to teach you how to bu...</td>\n",
              "      <td>Hobbies and Crafts</td>\n",
              "      <td>Crafts</td>\n",
              "      <td>Make a Flying Model Plane from Scratch</td>\n",
              "      <td>False</td>\n",
              "    </tr>\n",
              "    <tr>\n",
              "      <th>1160099</th>\n",
              "      <td>gHTVgMEpR2Q</td>\n",
              "      <td>#1 Yacon Molasses-90 Day Money Back Guarantee</td>\n",
              "      <td>hey everyone about two years ago I switched j...</td>\n",
              "      <td>Food and Entertaining</td>\n",
              "      <td>Recipes</td>\n",
              "      <td>Make Molasses Coady</td>\n",
              "      <td>False</td>\n",
              "    </tr>\n",
              "    <tr>\n",
              "      <th>1160100</th>\n",
              "      <td>_97kyZVWVG0</td>\n",
              "      <td>Easy Halloween Lantern Craft for Kids</td>\n",
              "      <td>hey everybody Mandy here today I'm going to sh...</td>\n",
              "      <td>Hobbies and Crafts</td>\n",
              "      <td>Crafts</td>\n",
              "      <td>Make a Kids Craft Lantern</td>\n",
              "      <td>False</td>\n",
              "    </tr>\n",
              "  </tbody>\n",
              "</table>\n",
              "<p>1160101 rows × 7 columns</p>\n",
              "</div>"
            ],
            "text/plain": [
              "              vid_id  ... punctuated\n",
              "0        GhOxhZeJp74  ...      False\n",
              "1        igF53XMINhs  ...      False\n",
              "2        mt2DcsJFqAY  ...      False\n",
              "3        nxj62Bl2rrs  ...      False\n",
              "4        nVbIUDjzWY4  ...      False\n",
              "...              ...  ...        ...\n",
              "1160096  8h7K6E_BUok  ...      False\n",
              "1160097  tVc0qvCeVfQ  ...      False\n",
              "1160098  gIURSGIXX0Y  ...      False\n",
              "1160099  gHTVgMEpR2Q  ...      False\n",
              "1160100  _97kyZVWVG0  ...      False\n",
              "\n",
              "[1160101 rows x 7 columns]"
            ]
          },
          "metadata": {
            "tags": []
          },
          "execution_count": 51
        }
      ]
    },
    {
      "cell_type": "markdown",
      "metadata": {
        "id": "duENTIKoenNK"
      },
      "source": [
        "# Adding additional columns to dataset (transcript length, default language etc.)"
      ]
    },
    {
      "cell_type": "markdown",
      "metadata": {
        "id": "QJBraJT8enNP"
      },
      "source": [
        "## Transcript length"
      ]
    },
    {
      "cell_type": "code",
      "metadata": {
        "id": "7jcz2lsYenNQ"
      },
      "source": [
        "df['transcript_num_chars']  = df['transcript'].str.len()"
      ],
      "execution_count": null,
      "outputs": []
    },
    {
      "cell_type": "code",
      "metadata": {
        "id": "LsMGN_L6enNR"
      },
      "source": [
        "df = df.loc[df['transcript_num_chars'] <= 42500]"
      ],
      "execution_count": null,
      "outputs": []
    },
    {
      "cell_type": "markdown",
      "metadata": {
        "id": "lvVp45dRenNS"
      },
      "source": [
        "## Default Language & Default Audio Language"
      ]
    },
    {
      "cell_type": "code",
      "metadata": {
        "id": "xeV28VJzenNT"
      },
      "source": [
        "# Create dictionary of titles\n",
        "import csv\n",
        "\n",
        "with open(titles, 'r') as title_file:\n",
        "  read = csv.reader(title_file)\n",
        "  headers = next(read) # skip header\n",
        "\n",
        "  LangDict = {}\n",
        "  AudioLangDict = {}\n",
        "\n",
        "  for row in read:\n",
        "    key = row[0]\n",
        "    lang = row[3]\n",
        "    audio_lang = row[4]\n",
        "    \n",
        "    LangDict[key] = lang\n",
        "    AudioLangDict[key] = audio_lang  "
      ],
      "execution_count": null,
      "outputs": []
    },
    {
      "cell_type": "code",
      "metadata": {
        "colab": {
          "base_uri": "https://localhost:8080/"
        },
        "id": "-qkm-9x1enNT",
        "outputId": "5939e900-edfc-48b8-c49d-ad0df3d361b8"
      },
      "source": [
        "df['default_language'] = df['vid_id'].map(LangDict)\n",
        "df['default_audio_language'] = df['vid_id'].map(AudioLangDict)"
      ],
      "execution_count": null,
      "outputs": [
        {
          "output_type": "stream",
          "text": [
            "/usr/local/lib/python3.7/dist-packages/ipykernel_launcher.py:1: SettingWithCopyWarning: \n",
            "A value is trying to be set on a copy of a slice from a DataFrame.\n",
            "Try using .loc[row_indexer,col_indexer] = value instead\n",
            "\n",
            "See the caveats in the documentation: https://pandas.pydata.org/pandas-docs/stable/user_guide/indexing.html#returning-a-view-versus-a-copy\n",
            "  \"\"\"Entry point for launching an IPython kernel.\n"
          ],
          "name": "stderr"
        }
      ]
    },
    {
      "cell_type": "code",
      "metadata": {
        "id": "aft9toucenNU"
      },
      "source": [
        "df.to_csv(full_dataset,index=False)"
      ],
      "execution_count": null,
      "outputs": []
    }
  ]
}